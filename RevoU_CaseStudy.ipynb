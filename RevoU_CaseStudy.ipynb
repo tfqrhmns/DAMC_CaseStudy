{
  "nbformat": 4,
  "nbformat_minor": 0,
  "metadata": {
    "colab": {
      "provenance": []
    },
    "kernelspec": {
      "name": "python3",
      "display_name": "Python 3"
    },
    "language_info": {
      "name": "python"
    }
  },
  "cells": [
    {
      "cell_type": "markdown",
      "source": [
        "#Data Preparation"
      ],
      "metadata": {
        "id": "nFQD2tUb7yiK"
      }
    },
    {
      "cell_type": "code",
      "execution_count": 1,
      "metadata": {
        "id": "mMnmVWBBuf3W"
      },
      "outputs": [],
      "source": [
        "import pandas as pd"
      ]
    },
    {
      "cell_type": "code",
      "source": [
        "from google.colab import drive\n",
        "drive.mount('/content/drive')"
      ],
      "metadata": {
        "colab": {
          "base_uri": "https://localhost:8080/"
        },
        "id": "oLsmA7uh1fl1",
        "outputId": "a5491a03-79aa-4c98-9ed7-ec4eb7109137"
      },
      "execution_count": 2,
      "outputs": [
        {
          "output_type": "stream",
          "name": "stdout",
          "text": [
            "Mounted at /content/drive\n"
          ]
        }
      ]
    },
    {
      "cell_type": "code",
      "source": [
        "df = pd.read_csv(\"/content/drive/MyDrive/Data Analysis Project/I. RevoU Mini Task/Salinan dari Sales Data - New.csv\")"
      ],
      "metadata": {
        "id": "8Bn4lQSQ1gH-"
      },
      "execution_count": 3,
      "outputs": []
    },
    {
      "cell_type": "code",
      "source": [
        "df.head()"
      ],
      "metadata": {
        "colab": {
          "base_uri": "https://localhost:8080/",
          "height": 206
        },
        "id": "s1omN9Tx2TSe",
        "outputId": "095afcb5-c6d8-4d3a-e82b-f60ac22c0ba2"
      },
      "execution_count": 16,
      "outputs": [
        {
          "output_type": "execute_result",
          "data": {
            "text/plain": [
              "   ORDERNUMBER  QUANTITYORDERED  PRICEEACH  ORDERDATE   STATUS   PRODUCTLINE  \\\n",
              "0        10100               30     100.00 2003-01-06  Shipped  Vintage Cars   \n",
              "1        10100               50      67.80 2003-01-06  Shipped  Vintage Cars   \n",
              "2        10100               22      86.51 2003-01-06  Shipped  Vintage Cars   \n",
              "3        10100               49      34.47 2003-01-06  Shipped  Vintage Cars   \n",
              "4        10101               25     100.00 2003-01-09  Shipped  Vintage Cars   \n",
              "\n",
              "  PRODUCTCODE                  CUSTOMERNAME       CITY DEALSIZE  TOTALSALES  \n",
              "0    S18_1749  Online Diecast Creations Co.     Nashua   Medium     3000.00  \n",
              "1    S18_2248  Online Diecast Creations Co.     Nashua   Medium     3390.00  \n",
              "2    S18_4409  Online Diecast Creations Co.     Nashua    Small     1903.22  \n",
              "3    S24_3969  Online Diecast Creations Co.     Nashua    Small     1689.03  \n",
              "4    S18_2325          Blauer See Auto, Co.  Frankfurt   Medium     2500.00  "
            ],
            "text/html": [
              "\n",
              "  <div id=\"df-901b289c-3f54-4cc2-b6f6-2097b0f23e19\" class=\"colab-df-container\">\n",
              "    <div>\n",
              "<style scoped>\n",
              "    .dataframe tbody tr th:only-of-type {\n",
              "        vertical-align: middle;\n",
              "    }\n",
              "\n",
              "    .dataframe tbody tr th {\n",
              "        vertical-align: top;\n",
              "    }\n",
              "\n",
              "    .dataframe thead th {\n",
              "        text-align: right;\n",
              "    }\n",
              "</style>\n",
              "<table border=\"1\" class=\"dataframe\">\n",
              "  <thead>\n",
              "    <tr style=\"text-align: right;\">\n",
              "      <th></th>\n",
              "      <th>ORDERNUMBER</th>\n",
              "      <th>QUANTITYORDERED</th>\n",
              "      <th>PRICEEACH</th>\n",
              "      <th>ORDERDATE</th>\n",
              "      <th>STATUS</th>\n",
              "      <th>PRODUCTLINE</th>\n",
              "      <th>PRODUCTCODE</th>\n",
              "      <th>CUSTOMERNAME</th>\n",
              "      <th>CITY</th>\n",
              "      <th>DEALSIZE</th>\n",
              "      <th>TOTALSALES</th>\n",
              "    </tr>\n",
              "  </thead>\n",
              "  <tbody>\n",
              "    <tr>\n",
              "      <th>0</th>\n",
              "      <td>10100</td>\n",
              "      <td>30</td>\n",
              "      <td>100.00</td>\n",
              "      <td>2003-01-06</td>\n",
              "      <td>Shipped</td>\n",
              "      <td>Vintage Cars</td>\n",
              "      <td>S18_1749</td>\n",
              "      <td>Online Diecast Creations Co.</td>\n",
              "      <td>Nashua</td>\n",
              "      <td>Medium</td>\n",
              "      <td>3000.00</td>\n",
              "    </tr>\n",
              "    <tr>\n",
              "      <th>1</th>\n",
              "      <td>10100</td>\n",
              "      <td>50</td>\n",
              "      <td>67.80</td>\n",
              "      <td>2003-01-06</td>\n",
              "      <td>Shipped</td>\n",
              "      <td>Vintage Cars</td>\n",
              "      <td>S18_2248</td>\n",
              "      <td>Online Diecast Creations Co.</td>\n",
              "      <td>Nashua</td>\n",
              "      <td>Medium</td>\n",
              "      <td>3390.00</td>\n",
              "    </tr>\n",
              "    <tr>\n",
              "      <th>2</th>\n",
              "      <td>10100</td>\n",
              "      <td>22</td>\n",
              "      <td>86.51</td>\n",
              "      <td>2003-01-06</td>\n",
              "      <td>Shipped</td>\n",
              "      <td>Vintage Cars</td>\n",
              "      <td>S18_4409</td>\n",
              "      <td>Online Diecast Creations Co.</td>\n",
              "      <td>Nashua</td>\n",
              "      <td>Small</td>\n",
              "      <td>1903.22</td>\n",
              "    </tr>\n",
              "    <tr>\n",
              "      <th>3</th>\n",
              "      <td>10100</td>\n",
              "      <td>49</td>\n",
              "      <td>34.47</td>\n",
              "      <td>2003-01-06</td>\n",
              "      <td>Shipped</td>\n",
              "      <td>Vintage Cars</td>\n",
              "      <td>S24_3969</td>\n",
              "      <td>Online Diecast Creations Co.</td>\n",
              "      <td>Nashua</td>\n",
              "      <td>Small</td>\n",
              "      <td>1689.03</td>\n",
              "    </tr>\n",
              "    <tr>\n",
              "      <th>4</th>\n",
              "      <td>10101</td>\n",
              "      <td>25</td>\n",
              "      <td>100.00</td>\n",
              "      <td>2003-01-09</td>\n",
              "      <td>Shipped</td>\n",
              "      <td>Vintage Cars</td>\n",
              "      <td>S18_2325</td>\n",
              "      <td>Blauer See Auto, Co.</td>\n",
              "      <td>Frankfurt</td>\n",
              "      <td>Medium</td>\n",
              "      <td>2500.00</td>\n",
              "    </tr>\n",
              "  </tbody>\n",
              "</table>\n",
              "</div>\n",
              "    <div class=\"colab-df-buttons\">\n",
              "\n",
              "  <div class=\"colab-df-container\">\n",
              "    <button class=\"colab-df-convert\" onclick=\"convertToInteractive('df-901b289c-3f54-4cc2-b6f6-2097b0f23e19')\"\n",
              "            title=\"Convert this dataframe to an interactive table.\"\n",
              "            style=\"display:none;\">\n",
              "\n",
              "  <svg xmlns=\"http://www.w3.org/2000/svg\" height=\"24px\" viewBox=\"0 -960 960 960\">\n",
              "    <path d=\"M120-120v-720h720v720H120Zm60-500h600v-160H180v160Zm220 220h160v-160H400v160Zm0 220h160v-160H400v160ZM180-400h160v-160H180v160Zm440 0h160v-160H620v160ZM180-180h160v-160H180v160Zm440 0h160v-160H620v160Z\"/>\n",
              "  </svg>\n",
              "    </button>\n",
              "\n",
              "  <style>\n",
              "    .colab-df-container {\n",
              "      display:flex;\n",
              "      gap: 12px;\n",
              "    }\n",
              "\n",
              "    .colab-df-convert {\n",
              "      background-color: #E8F0FE;\n",
              "      border: none;\n",
              "      border-radius: 50%;\n",
              "      cursor: pointer;\n",
              "      display: none;\n",
              "      fill: #1967D2;\n",
              "      height: 32px;\n",
              "      padding: 0 0 0 0;\n",
              "      width: 32px;\n",
              "    }\n",
              "\n",
              "    .colab-df-convert:hover {\n",
              "      background-color: #E2EBFA;\n",
              "      box-shadow: 0px 1px 2px rgba(60, 64, 67, 0.3), 0px 1px 3px 1px rgba(60, 64, 67, 0.15);\n",
              "      fill: #174EA6;\n",
              "    }\n",
              "\n",
              "    .colab-df-buttons div {\n",
              "      margin-bottom: 4px;\n",
              "    }\n",
              "\n",
              "    [theme=dark] .colab-df-convert {\n",
              "      background-color: #3B4455;\n",
              "      fill: #D2E3FC;\n",
              "    }\n",
              "\n",
              "    [theme=dark] .colab-df-convert:hover {\n",
              "      background-color: #434B5C;\n",
              "      box-shadow: 0px 1px 3px 1px rgba(0, 0, 0, 0.15);\n",
              "      filter: drop-shadow(0px 1px 2px rgba(0, 0, 0, 0.3));\n",
              "      fill: #FFFFFF;\n",
              "    }\n",
              "  </style>\n",
              "\n",
              "    <script>\n",
              "      const buttonEl =\n",
              "        document.querySelector('#df-901b289c-3f54-4cc2-b6f6-2097b0f23e19 button.colab-df-convert');\n",
              "      buttonEl.style.display =\n",
              "        google.colab.kernel.accessAllowed ? 'block' : 'none';\n",
              "\n",
              "      async function convertToInteractive(key) {\n",
              "        const element = document.querySelector('#df-901b289c-3f54-4cc2-b6f6-2097b0f23e19');\n",
              "        const dataTable =\n",
              "          await google.colab.kernel.invokeFunction('convertToInteractive',\n",
              "                                                    [key], {});\n",
              "        if (!dataTable) return;\n",
              "\n",
              "        const docLinkHtml = 'Like what you see? Visit the ' +\n",
              "          '<a target=\"_blank\" href=https://colab.research.google.com/notebooks/data_table.ipynb>data table notebook</a>'\n",
              "          + ' to learn more about interactive tables.';\n",
              "        element.innerHTML = '';\n",
              "        dataTable['output_type'] = 'display_data';\n",
              "        await google.colab.output.renderOutput(dataTable, element);\n",
              "        const docLink = document.createElement('div');\n",
              "        docLink.innerHTML = docLinkHtml;\n",
              "        element.appendChild(docLink);\n",
              "      }\n",
              "    </script>\n",
              "  </div>\n",
              "\n",
              "\n",
              "    <div id=\"df-70f51d43-de8d-4d43-81b6-43cfe0b313d5\">\n",
              "      <button class=\"colab-df-quickchart\" onclick=\"quickchart('df-70f51d43-de8d-4d43-81b6-43cfe0b313d5')\"\n",
              "                title=\"Suggest charts\"\n",
              "                style=\"display:none;\">\n",
              "\n",
              "<svg xmlns=\"http://www.w3.org/2000/svg\" height=\"24px\"viewBox=\"0 0 24 24\"\n",
              "     width=\"24px\">\n",
              "    <g>\n",
              "        <path d=\"M19 3H5c-1.1 0-2 .9-2 2v14c0 1.1.9 2 2 2h14c1.1 0 2-.9 2-2V5c0-1.1-.9-2-2-2zM9 17H7v-7h2v7zm4 0h-2V7h2v10zm4 0h-2v-4h2v4z\"/>\n",
              "    </g>\n",
              "</svg>\n",
              "      </button>\n",
              "\n",
              "<style>\n",
              "  .colab-df-quickchart {\n",
              "      --bg-color: #E8F0FE;\n",
              "      --fill-color: #1967D2;\n",
              "      --hover-bg-color: #E2EBFA;\n",
              "      --hover-fill-color: #174EA6;\n",
              "      --disabled-fill-color: #AAA;\n",
              "      --disabled-bg-color: #DDD;\n",
              "  }\n",
              "\n",
              "  [theme=dark] .colab-df-quickchart {\n",
              "      --bg-color: #3B4455;\n",
              "      --fill-color: #D2E3FC;\n",
              "      --hover-bg-color: #434B5C;\n",
              "      --hover-fill-color: #FFFFFF;\n",
              "      --disabled-bg-color: #3B4455;\n",
              "      --disabled-fill-color: #666;\n",
              "  }\n",
              "\n",
              "  .colab-df-quickchart {\n",
              "    background-color: var(--bg-color);\n",
              "    border: none;\n",
              "    border-radius: 50%;\n",
              "    cursor: pointer;\n",
              "    display: none;\n",
              "    fill: var(--fill-color);\n",
              "    height: 32px;\n",
              "    padding: 0;\n",
              "    width: 32px;\n",
              "  }\n",
              "\n",
              "  .colab-df-quickchart:hover {\n",
              "    background-color: var(--hover-bg-color);\n",
              "    box-shadow: 0 1px 2px rgba(60, 64, 67, 0.3), 0 1px 3px 1px rgba(60, 64, 67, 0.15);\n",
              "    fill: var(--button-hover-fill-color);\n",
              "  }\n",
              "\n",
              "  .colab-df-quickchart-complete:disabled,\n",
              "  .colab-df-quickchart-complete:disabled:hover {\n",
              "    background-color: var(--disabled-bg-color);\n",
              "    fill: var(--disabled-fill-color);\n",
              "    box-shadow: none;\n",
              "  }\n",
              "\n",
              "  .colab-df-spinner {\n",
              "    border: 2px solid var(--fill-color);\n",
              "    border-color: transparent;\n",
              "    border-bottom-color: var(--fill-color);\n",
              "    animation:\n",
              "      spin 1s steps(1) infinite;\n",
              "  }\n",
              "\n",
              "  @keyframes spin {\n",
              "    0% {\n",
              "      border-color: transparent;\n",
              "      border-bottom-color: var(--fill-color);\n",
              "      border-left-color: var(--fill-color);\n",
              "    }\n",
              "    20% {\n",
              "      border-color: transparent;\n",
              "      border-left-color: var(--fill-color);\n",
              "      border-top-color: var(--fill-color);\n",
              "    }\n",
              "    30% {\n",
              "      border-color: transparent;\n",
              "      border-left-color: var(--fill-color);\n",
              "      border-top-color: var(--fill-color);\n",
              "      border-right-color: var(--fill-color);\n",
              "    }\n",
              "    40% {\n",
              "      border-color: transparent;\n",
              "      border-right-color: var(--fill-color);\n",
              "      border-top-color: var(--fill-color);\n",
              "    }\n",
              "    60% {\n",
              "      border-color: transparent;\n",
              "      border-right-color: var(--fill-color);\n",
              "    }\n",
              "    80% {\n",
              "      border-color: transparent;\n",
              "      border-right-color: var(--fill-color);\n",
              "      border-bottom-color: var(--fill-color);\n",
              "    }\n",
              "    90% {\n",
              "      border-color: transparent;\n",
              "      border-bottom-color: var(--fill-color);\n",
              "    }\n",
              "  }\n",
              "</style>\n",
              "\n",
              "      <script>\n",
              "        async function quickchart(key) {\n",
              "          const quickchartButtonEl =\n",
              "            document.querySelector('#' + key + ' button');\n",
              "          quickchartButtonEl.disabled = true;  // To prevent multiple clicks.\n",
              "          quickchartButtonEl.classList.add('colab-df-spinner');\n",
              "          try {\n",
              "            const charts = await google.colab.kernel.invokeFunction(\n",
              "                'suggestCharts', [key], {});\n",
              "          } catch (error) {\n",
              "            console.error('Error during call to suggestCharts:', error);\n",
              "          }\n",
              "          quickchartButtonEl.classList.remove('colab-df-spinner');\n",
              "          quickchartButtonEl.classList.add('colab-df-quickchart-complete');\n",
              "        }\n",
              "        (() => {\n",
              "          let quickchartButtonEl =\n",
              "            document.querySelector('#df-70f51d43-de8d-4d43-81b6-43cfe0b313d5 button');\n",
              "          quickchartButtonEl.style.display =\n",
              "            google.colab.kernel.accessAllowed ? 'block' : 'none';\n",
              "        })();\n",
              "      </script>\n",
              "    </div>\n",
              "\n",
              "    </div>\n",
              "  </div>\n"
            ],
            "application/vnd.google.colaboratory.intrinsic+json": {
              "type": "dataframe",
              "variable_name": "df",
              "summary": "{\n  \"name\": \"df\",\n  \"rows\": 2824,\n  \"fields\": [\n    {\n      \"column\": \"ORDERNUMBER\",\n      \"properties\": {\n        \"dtype\": \"number\",\n        \"std\": 92,\n        \"min\": 10100,\n        \"max\": 10425,\n        \"num_unique_values\": 307,\n        \"samples\": [\n          10295,\n          10163,\n          10232\n        ],\n        \"semantic_type\": \"\",\n        \"description\": \"\"\n      }\n    },\n    {\n      \"column\": \"QUANTITYORDERED\",\n      \"properties\": {\n        \"dtype\": \"number\",\n        \"std\": 9,\n        \"min\": 6,\n        \"max\": 97,\n        \"num_unique_values\": 58,\n        \"samples\": [\n          30,\n          26,\n          52\n        ],\n        \"semantic_type\": \"\",\n        \"description\": \"\"\n      }\n    },\n    {\n      \"column\": \"PRICEEACH\",\n      \"properties\": {\n        \"dtype\": \"number\",\n        \"std\": 20.173982057380066,\n        \"min\": 26.88,\n        \"max\": 100.0,\n        \"num_unique_values\": 1016,\n        \"samples\": [\n          90.4,\n          77.41,\n          93.9\n        ],\n        \"semantic_type\": \"\",\n        \"description\": \"\"\n      }\n    },\n    {\n      \"column\": \"ORDERDATE\",\n      \"properties\": {\n        \"dtype\": \"date\",\n        \"min\": \"2003-01-06 00:00:00\",\n        \"max\": \"2005-05-31 00:00:00\",\n        \"num_unique_values\": 252,\n        \"samples\": [\n          \"2004-10-11 00:00:00\",\n          \"2003-02-17 00:00:00\",\n          \"2004-04-09 00:00:00\"\n        ],\n        \"semantic_type\": \"\",\n        \"description\": \"\"\n      }\n    },\n    {\n      \"column\": \"STATUS\",\n      \"properties\": {\n        \"dtype\": \"category\",\n        \"num_unique_values\": 6,\n        \"samples\": [\n          \"Shipped\",\n          \"Resolved\",\n          \"In Process\"\n        ],\n        \"semantic_type\": \"\",\n        \"description\": \"\"\n      }\n    },\n    {\n      \"column\": \"PRODUCTLINE\",\n      \"properties\": {\n        \"dtype\": \"category\",\n        \"num_unique_values\": 7,\n        \"samples\": [\n          \"Vintage Cars\",\n          \"Classic Cars\",\n          \"Planes\"\n        ],\n        \"semantic_type\": \"\",\n        \"description\": \"\"\n      }\n    },\n    {\n      \"column\": \"PRODUCTCODE\",\n      \"properties\": {\n        \"dtype\": \"category\",\n        \"num_unique_values\": 109,\n        \"samples\": [\n          \"S24_2000\",\n          \"S10_1949\",\n          \"S18_2325\"\n        ],\n        \"semantic_type\": \"\",\n        \"description\": \"\"\n      }\n    },\n    {\n      \"column\": \"CUSTOMERNAME\",\n      \"properties\": {\n        \"dtype\": \"category\",\n        \"num_unique_values\": 92,\n        \"samples\": [\n          \"Oulu Toy Supplies, Inc.\",\n          \"Marseille Mini Autos\",\n          \"Herkku Gifts\"\n        ],\n        \"semantic_type\": \"\",\n        \"description\": \"\"\n      }\n    },\n    {\n      \"column\": \"CITY\",\n      \"properties\": {\n        \"dtype\": \"category\",\n        \"num_unique_values\": 73,\n        \"samples\": [\n          \"Madrid\",\n          \"Newark\",\n          \"Melbourne\"\n        ],\n        \"semantic_type\": \"\",\n        \"description\": \"\"\n      }\n    },\n    {\n      \"column\": \"DEALSIZE\",\n      \"properties\": {\n        \"dtype\": \"category\",\n        \"num_unique_values\": 3,\n        \"samples\": [\n          \"Medium\",\n          \"Small\",\n          \"Large\"\n        ],\n        \"semantic_type\": \"\",\n        \"description\": \"\"\n      }\n    },\n    {\n      \"column\": \"TOTALSALES\",\n      \"properties\": {\n        \"dtype\": \"number\",\n        \"std\": 1105.6549897495818,\n        \"min\": 482.13,\n        \"max\": 9048.16,\n        \"num_unique_values\": 1543,\n        \"samples\": [\n          2439.9900000000002,\n          2424.0,\n          2694.72\n        ],\n        \"semantic_type\": \"\",\n        \"description\": \"\"\n      }\n    }\n  ]\n}"
            }
          },
          "metadata": {},
          "execution_count": 16
        }
      ]
    },
    {
      "cell_type": "markdown",
      "source": [],
      "metadata": {
        "id": "Jp53pVXY2YsV"
      }
    },
    {
      "cell_type": "markdown",
      "source": [
        "# Data Cleaning"
      ],
      "metadata": {
        "id": "dIM06qc62euh"
      }
    },
    {
      "cell_type": "code",
      "source": [
        "print(\"\\nData_Type_Column:\")\n",
        "print(df.dtypes)"
      ],
      "metadata": {
        "colab": {
          "base_uri": "https://localhost:8080/"
        },
        "id": "GnfkQOAV2mCg",
        "outputId": "e1b4a3d1-1973-4970-bbe7-5ac8e80383c0"
      },
      "execution_count": 6,
      "outputs": [
        {
          "output_type": "stream",
          "name": "stdout",
          "text": [
            "\n",
            "Data_Type_Column:\n",
            "ORDERNUMBER          int64\n",
            "QUANTITYORDERED      int64\n",
            "PRICEEACH          float64\n",
            "ORDERDATE           object\n",
            "STATUS              object\n",
            "PRODUCTLINE         object\n",
            "PRODUCTCODE         object\n",
            "CUSTOMERNAME        object\n",
            "CITY                object\n",
            "DEALSIZE            object\n",
            "dtype: object\n"
          ]
        }
      ]
    },
    {
      "cell_type": "code",
      "source": [
        "#Convert Data Type Order Date from Object To Date Time\n",
        "df['ORDERDATE'] = pd.to_datetime(df['ORDERDATE'])"
      ],
      "metadata": {
        "id": "NOC1rAf-2zRf"
      },
      "execution_count": 7,
      "outputs": []
    },
    {
      "cell_type": "code",
      "source": [
        "print(\"\\nData_Type_Column:\")\n",
        "print(df.dtypes)"
      ],
      "metadata": {
        "colab": {
          "base_uri": "https://localhost:8080/"
        },
        "id": "1bi4YvHz3G15",
        "outputId": "37fbdae7-6baf-4ba9-badc-cbab3e14ffd3"
      },
      "execution_count": 8,
      "outputs": [
        {
          "output_type": "stream",
          "name": "stdout",
          "text": [
            "\n",
            "Data_Type_Column:\n",
            "ORDERNUMBER                 int64\n",
            "QUANTITYORDERED             int64\n",
            "PRICEEACH                 float64\n",
            "ORDERDATE          datetime64[ns]\n",
            "STATUS                     object\n",
            "PRODUCTLINE                object\n",
            "PRODUCTCODE                object\n",
            "CUSTOMERNAME               object\n",
            "CITY                       object\n",
            "DEALSIZE                   object\n",
            "dtype: object\n"
          ]
        }
      ]
    },
    {
      "cell_type": "code",
      "source": [
        "#Check Missing/Null Values per Column\n",
        "missing_values = df.isnull().sum()\n",
        "print(\"Number of missing/null values per column::\")\n",
        "print(missing_values)"
      ],
      "metadata": {
        "colab": {
          "base_uri": "https://localhost:8080/"
        },
        "id": "C-7_523Q3JBe",
        "outputId": "adfa15bc-48c4-4655-b487-f77144428d9b"
      },
      "execution_count": 9,
      "outputs": [
        {
          "output_type": "stream",
          "name": "stdout",
          "text": [
            "Number of missing/null values per column::\n",
            "ORDERNUMBER        0\n",
            "QUANTITYORDERED    0\n",
            "PRICEEACH          0\n",
            "ORDERDATE          0\n",
            "STATUS             0\n",
            "PRODUCTLINE        0\n",
            "PRODUCTCODE        0\n",
            "CUSTOMERNAME       0\n",
            "CITY               0\n",
            "DEALSIZE           0\n",
            "dtype: int64\n"
          ]
        }
      ]
    },
    {
      "cell_type": "code",
      "source": [
        "#create a TOTALSALES column to represent the real transaction value per product/order.\n",
        "df['TOTALSALES'] = df['QUANTITYORDERED'] * df['PRICEEACH']"
      ],
      "metadata": {
        "id": "7p3X0qmV3idb"
      },
      "execution_count": 10,
      "outputs": []
    },
    {
      "cell_type": "code",
      "source": [
        "print(\"\\nData_Type_Column:\")\n",
        "print(df.dtypes)"
      ],
      "metadata": {
        "colab": {
          "base_uri": "https://localhost:8080/"
        },
        "id": "sYC7WVDT4CpB",
        "outputId": "5735956d-4c2a-493f-d01e-25e3a3b19a9e"
      },
      "execution_count": 11,
      "outputs": [
        {
          "output_type": "stream",
          "name": "stdout",
          "text": [
            "\n",
            "Data_Type_Column:\n",
            "ORDERNUMBER                 int64\n",
            "QUANTITYORDERED             int64\n",
            "PRICEEACH                 float64\n",
            "ORDERDATE          datetime64[ns]\n",
            "STATUS                     object\n",
            "PRODUCTLINE                object\n",
            "PRODUCTCODE                object\n",
            "CUSTOMERNAME               object\n",
            "CITY                       object\n",
            "DEALSIZE                   object\n",
            "TOTALSALES                float64\n",
            "dtype: object\n"
          ]
        }
      ]
    },
    {
      "cell_type": "code",
      "source": [],
      "metadata": {
        "id": "jZ0V_lf14_Uq"
      },
      "execution_count": null,
      "outputs": []
    },
    {
      "cell_type": "markdown",
      "source": [
        "#Which product lines have the highest and lowest sales?"
      ],
      "metadata": {
        "id": "UGkmQi_B5USB"
      }
    },
    {
      "cell_type": "code",
      "source": [
        "product_sales = df.groupby(\"PRODUCTLINE\")[\"TOTALSALES\"].sum().sort_values(ascending=False)"
      ],
      "metadata": {
        "id": "bQGt6ORl5knR"
      },
      "execution_count": 17,
      "outputs": []
    },
    {
      "cell_type": "code",
      "source": [
        "print(product_sales)"
      ],
      "metadata": {
        "colab": {
          "base_uri": "https://localhost:8080/"
        },
        "id": "TMk-XXH05rcq",
        "outputId": "731d30ea-264c-45ee-a253-36c18b2edc23"
      },
      "execution_count": 18,
      "outputs": [
        {
          "output_type": "stream",
          "name": "stdout",
          "text": [
            "PRODUCTLINE\n",
            "Classic Cars        2968546.40\n",
            "Vintage Cars        1646013.29\n",
            "Motorcycles          971086.29\n",
            "Trucks and Buses     947355.18\n",
            "Planes               877942.21\n",
            "Ships                677940.40\n",
            "Trains               203804.26\n",
            "Name: TOTALSALES, dtype: float64\n"
          ]
        }
      ]
    },
    {
      "cell_type": "markdown",
      "source": [
        "#Show Sales Performance Over Time"
      ],
      "metadata": {
        "id": "M_0nPHX754wQ"
      }
    },
    {
      "cell_type": "code",
      "source": [
        "# Add Year-Month Column\n",
        "df['YEAR_MONTH'] = df['ORDERDATE'].dt.to_period('M')"
      ],
      "metadata": {
        "id": "NUcoeOVo5r0f"
      },
      "execution_count": 19,
      "outputs": []
    },
    {
      "cell_type": "code",
      "source": [
        "#Calculate total sales per month\n",
        "monthly_sales = df.groupby('YEAR_MONTH')['TOTALSALES'].sum()"
      ],
      "metadata": {
        "id": "fAotsk_R6bxe"
      },
      "execution_count": 20,
      "outputs": []
    },
    {
      "cell_type": "code",
      "source": [
        "monthly_sales.index = monthly_sales.index.to_timestamp()"
      ],
      "metadata": {
        "id": "rL_TFnkN6mFf"
      },
      "execution_count": 21,
      "outputs": []
    },
    {
      "cell_type": "code",
      "source": [
        "print(monthly_sales.reset_index())"
      ],
      "metadata": {
        "colab": {
          "base_uri": "https://localhost:8080/"
        },
        "id": "m30zERoh6twT",
        "outputId": "9974bbf9-2282-4107-8e5c-1fd69575d3c3"
      },
      "execution_count": 24,
      "outputs": [
        {
          "output_type": "stream",
          "name": "stdout",
          "text": [
            "   YEAR_MONTH  TOTALSALES\n",
            "0  2003-01-01   107885.96\n",
            "1  2003-02-01   120036.80\n",
            "2  2003-03-01   145897.47\n",
            "3  2003-04-01   169421.03\n",
            "4  2003-05-01   163654.12\n",
            "5  2003-06-01   139552.84\n",
            "6  2003-07-01   149869.73\n",
            "7  2003-08-01   166026.32\n",
            "8  2003-09-01   211045.86\n",
            "9  2003-10-01   466240.57\n",
            "10 2003-11-01   850203.27\n",
            "11 2003-12-01   210117.21\n",
            "12 2004-01-01   268015.87\n",
            "13 2004-02-01   258389.05\n",
            "14 2004-03-01   166958.56\n",
            "15 2004-04-01   172935.80\n",
            "16 2004-05-01   220815.14\n",
            "17 2004-06-01   245190.75\n",
            "18 2004-07-01   271103.61\n",
            "19 2004-08-01   386106.59\n",
            "20 2004-09-01   263854.26\n",
            "21 2004-10-01   452796.13\n",
            "22 2004-11-01   894479.18\n",
            "23 2004-12-01   313055.93\n",
            "24 2005-01-01   283680.46\n",
            "25 2005-02-01   289902.30\n",
            "26 2005-03-01   315131.94\n",
            "27 2005-04-01   217977.63\n",
            "28 2005-05-01   372343.65\n"
          ]
        }
      ]
    },
    {
      "cell_type": "markdown",
      "source": [
        "#How Does Deal Size (small, medium, large) correlate with total sales? what is the percentage of contribution for each type of deal?"
      ],
      "metadata": {
        "id": "cEYFcZpC7ebH"
      }
    },
    {
      "cell_type": "code",
      "source": [
        "# Total sales per deal size\n",
        "deal_sales = df.groupby(\"DEALSIZE\")[\"TOTALSALES\"].sum().sort_values(ascending=False)"
      ],
      "metadata": {
        "id": "cMM_y0oz7tf3"
      },
      "execution_count": 25,
      "outputs": []
    },
    {
      "cell_type": "code",
      "source": [
        "#Calculate the percentage contribution\n",
        "deal_percentage = (deal_sales / deal_sales.sum()) * 100"
      ],
      "metadata": {
        "id": "CJwZ-upn79KC"
      },
      "execution_count": 26,
      "outputs": []
    },
    {
      "cell_type": "code",
      "source": [
        "print(\"Total Sales by Deal Size:\\n\", deal_sales)\n",
        "print(\"\\nPercentage Contribution:\\n\", deal_percentage.round(2))"
      ],
      "metadata": {
        "colab": {
          "base_uri": "https://localhost:8080/"
        },
        "id": "CcuLTeOt8Fv2",
        "outputId": "ce036e56-2ac0-4710-a49c-13395cb4b817"
      },
      "execution_count": 27,
      "outputs": [
        {
          "output_type": "stream",
          "name": "stdout",
          "text": [
            "Total Sales by Deal Size:\n",
            " DEALSIZE\n",
            "Medium    4961736.68\n",
            "Small     2592193.44\n",
            "Large      738757.91\n",
            "Name: TOTALSALES, dtype: float64\n",
            "\n",
            "Percentage Contribution:\n",
            " DEALSIZE\n",
            "Medium    59.83\n",
            "Small     31.26\n",
            "Large      8.91\n",
            "Name: TOTALSALES, dtype: float64\n"
          ]
        }
      ]
    },
    {
      "cell_type": "markdown",
      "source": [
        "#Convert dataframe to csv for visualizing in looker studio"
      ],
      "metadata": {
        "id": "fcgIO4yj8XIy"
      }
    },
    {
      "cell_type": "code",
      "source": [
        "df.to_csv(\"sales_cleaned.csv\", index=False)"
      ],
      "metadata": {
        "id": "nInTygEY8boV"
      },
      "execution_count": 30,
      "outputs": []
    },
    {
      "cell_type": "code",
      "source": [
        "df2=pd.read_csv(\"sales_cleaned.csv\")"
      ],
      "metadata": {
        "id": "ZbXI3Rk29P9S"
      },
      "execution_count": 31,
      "outputs": []
    },
    {
      "cell_type": "code",
      "source": [
        "df2.head()"
      ],
      "metadata": {
        "colab": {
          "base_uri": "https://localhost:8080/",
          "height": 313
        },
        "id": "5Bw5WPgZ9TEv",
        "outputId": "f9e8f69c-3a91-4f7f-c477-6d075fdc75d2"
      },
      "execution_count": 32,
      "outputs": [
        {
          "output_type": "execute_result",
          "data": {
            "text/plain": [
              "   ORDERNUMBER  QUANTITYORDERED  PRICEEACH   ORDERDATE   STATUS   PRODUCTLINE  \\\n",
              "0        10100               30     100.00  2003-01-06  Shipped  Vintage Cars   \n",
              "1        10100               50      67.80  2003-01-06  Shipped  Vintage Cars   \n",
              "2        10100               22      86.51  2003-01-06  Shipped  Vintage Cars   \n",
              "3        10100               49      34.47  2003-01-06  Shipped  Vintage Cars   \n",
              "4        10101               25     100.00  2003-01-09  Shipped  Vintage Cars   \n",
              "\n",
              "  PRODUCTCODE                  CUSTOMERNAME       CITY DEALSIZE  TOTALSALES  \\\n",
              "0    S18_1749  Online Diecast Creations Co.     Nashua   Medium     3000.00   \n",
              "1    S18_2248  Online Diecast Creations Co.     Nashua   Medium     3390.00   \n",
              "2    S18_4409  Online Diecast Creations Co.     Nashua    Small     1903.22   \n",
              "3    S24_3969  Online Diecast Creations Co.     Nashua    Small     1689.03   \n",
              "4    S18_2325          Blauer See Auto, Co.  Frankfurt   Medium     2500.00   \n",
              "\n",
              "  YEAR_MONTH  \n",
              "0    2003-01  \n",
              "1    2003-01  \n",
              "2    2003-01  \n",
              "3    2003-01  \n",
              "4    2003-01  "
            ],
            "text/html": [
              "\n",
              "  <div id=\"df-f72317c9-ca31-4cda-9c4a-f635dbad2bba\" class=\"colab-df-container\">\n",
              "    <div>\n",
              "<style scoped>\n",
              "    .dataframe tbody tr th:only-of-type {\n",
              "        vertical-align: middle;\n",
              "    }\n",
              "\n",
              "    .dataframe tbody tr th {\n",
              "        vertical-align: top;\n",
              "    }\n",
              "\n",
              "    .dataframe thead th {\n",
              "        text-align: right;\n",
              "    }\n",
              "</style>\n",
              "<table border=\"1\" class=\"dataframe\">\n",
              "  <thead>\n",
              "    <tr style=\"text-align: right;\">\n",
              "      <th></th>\n",
              "      <th>ORDERNUMBER</th>\n",
              "      <th>QUANTITYORDERED</th>\n",
              "      <th>PRICEEACH</th>\n",
              "      <th>ORDERDATE</th>\n",
              "      <th>STATUS</th>\n",
              "      <th>PRODUCTLINE</th>\n",
              "      <th>PRODUCTCODE</th>\n",
              "      <th>CUSTOMERNAME</th>\n",
              "      <th>CITY</th>\n",
              "      <th>DEALSIZE</th>\n",
              "      <th>TOTALSALES</th>\n",
              "      <th>YEAR_MONTH</th>\n",
              "    </tr>\n",
              "  </thead>\n",
              "  <tbody>\n",
              "    <tr>\n",
              "      <th>0</th>\n",
              "      <td>10100</td>\n",
              "      <td>30</td>\n",
              "      <td>100.00</td>\n",
              "      <td>2003-01-06</td>\n",
              "      <td>Shipped</td>\n",
              "      <td>Vintage Cars</td>\n",
              "      <td>S18_1749</td>\n",
              "      <td>Online Diecast Creations Co.</td>\n",
              "      <td>Nashua</td>\n",
              "      <td>Medium</td>\n",
              "      <td>3000.00</td>\n",
              "      <td>2003-01</td>\n",
              "    </tr>\n",
              "    <tr>\n",
              "      <th>1</th>\n",
              "      <td>10100</td>\n",
              "      <td>50</td>\n",
              "      <td>67.80</td>\n",
              "      <td>2003-01-06</td>\n",
              "      <td>Shipped</td>\n",
              "      <td>Vintage Cars</td>\n",
              "      <td>S18_2248</td>\n",
              "      <td>Online Diecast Creations Co.</td>\n",
              "      <td>Nashua</td>\n",
              "      <td>Medium</td>\n",
              "      <td>3390.00</td>\n",
              "      <td>2003-01</td>\n",
              "    </tr>\n",
              "    <tr>\n",
              "      <th>2</th>\n",
              "      <td>10100</td>\n",
              "      <td>22</td>\n",
              "      <td>86.51</td>\n",
              "      <td>2003-01-06</td>\n",
              "      <td>Shipped</td>\n",
              "      <td>Vintage Cars</td>\n",
              "      <td>S18_4409</td>\n",
              "      <td>Online Diecast Creations Co.</td>\n",
              "      <td>Nashua</td>\n",
              "      <td>Small</td>\n",
              "      <td>1903.22</td>\n",
              "      <td>2003-01</td>\n",
              "    </tr>\n",
              "    <tr>\n",
              "      <th>3</th>\n",
              "      <td>10100</td>\n",
              "      <td>49</td>\n",
              "      <td>34.47</td>\n",
              "      <td>2003-01-06</td>\n",
              "      <td>Shipped</td>\n",
              "      <td>Vintage Cars</td>\n",
              "      <td>S24_3969</td>\n",
              "      <td>Online Diecast Creations Co.</td>\n",
              "      <td>Nashua</td>\n",
              "      <td>Small</td>\n",
              "      <td>1689.03</td>\n",
              "      <td>2003-01</td>\n",
              "    </tr>\n",
              "    <tr>\n",
              "      <th>4</th>\n",
              "      <td>10101</td>\n",
              "      <td>25</td>\n",
              "      <td>100.00</td>\n",
              "      <td>2003-01-09</td>\n",
              "      <td>Shipped</td>\n",
              "      <td>Vintage Cars</td>\n",
              "      <td>S18_2325</td>\n",
              "      <td>Blauer See Auto, Co.</td>\n",
              "      <td>Frankfurt</td>\n",
              "      <td>Medium</td>\n",
              "      <td>2500.00</td>\n",
              "      <td>2003-01</td>\n",
              "    </tr>\n",
              "  </tbody>\n",
              "</table>\n",
              "</div>\n",
              "    <div class=\"colab-df-buttons\">\n",
              "\n",
              "  <div class=\"colab-df-container\">\n",
              "    <button class=\"colab-df-convert\" onclick=\"convertToInteractive('df-f72317c9-ca31-4cda-9c4a-f635dbad2bba')\"\n",
              "            title=\"Convert this dataframe to an interactive table.\"\n",
              "            style=\"display:none;\">\n",
              "\n",
              "  <svg xmlns=\"http://www.w3.org/2000/svg\" height=\"24px\" viewBox=\"0 -960 960 960\">\n",
              "    <path d=\"M120-120v-720h720v720H120Zm60-500h600v-160H180v160Zm220 220h160v-160H400v160Zm0 220h160v-160H400v160ZM180-400h160v-160H180v160Zm440 0h160v-160H620v160ZM180-180h160v-160H180v160Zm440 0h160v-160H620v160Z\"/>\n",
              "  </svg>\n",
              "    </button>\n",
              "\n",
              "  <style>\n",
              "    .colab-df-container {\n",
              "      display:flex;\n",
              "      gap: 12px;\n",
              "    }\n",
              "\n",
              "    .colab-df-convert {\n",
              "      background-color: #E8F0FE;\n",
              "      border: none;\n",
              "      border-radius: 50%;\n",
              "      cursor: pointer;\n",
              "      display: none;\n",
              "      fill: #1967D2;\n",
              "      height: 32px;\n",
              "      padding: 0 0 0 0;\n",
              "      width: 32px;\n",
              "    }\n",
              "\n",
              "    .colab-df-convert:hover {\n",
              "      background-color: #E2EBFA;\n",
              "      box-shadow: 0px 1px 2px rgba(60, 64, 67, 0.3), 0px 1px 3px 1px rgba(60, 64, 67, 0.15);\n",
              "      fill: #174EA6;\n",
              "    }\n",
              "\n",
              "    .colab-df-buttons div {\n",
              "      margin-bottom: 4px;\n",
              "    }\n",
              "\n",
              "    [theme=dark] .colab-df-convert {\n",
              "      background-color: #3B4455;\n",
              "      fill: #D2E3FC;\n",
              "    }\n",
              "\n",
              "    [theme=dark] .colab-df-convert:hover {\n",
              "      background-color: #434B5C;\n",
              "      box-shadow: 0px 1px 3px 1px rgba(0, 0, 0, 0.15);\n",
              "      filter: drop-shadow(0px 1px 2px rgba(0, 0, 0, 0.3));\n",
              "      fill: #FFFFFF;\n",
              "    }\n",
              "  </style>\n",
              "\n",
              "    <script>\n",
              "      const buttonEl =\n",
              "        document.querySelector('#df-f72317c9-ca31-4cda-9c4a-f635dbad2bba button.colab-df-convert');\n",
              "      buttonEl.style.display =\n",
              "        google.colab.kernel.accessAllowed ? 'block' : 'none';\n",
              "\n",
              "      async function convertToInteractive(key) {\n",
              "        const element = document.querySelector('#df-f72317c9-ca31-4cda-9c4a-f635dbad2bba');\n",
              "        const dataTable =\n",
              "          await google.colab.kernel.invokeFunction('convertToInteractive',\n",
              "                                                    [key], {});\n",
              "        if (!dataTable) return;\n",
              "\n",
              "        const docLinkHtml = 'Like what you see? Visit the ' +\n",
              "          '<a target=\"_blank\" href=https://colab.research.google.com/notebooks/data_table.ipynb>data table notebook</a>'\n",
              "          + ' to learn more about interactive tables.';\n",
              "        element.innerHTML = '';\n",
              "        dataTable['output_type'] = 'display_data';\n",
              "        await google.colab.output.renderOutput(dataTable, element);\n",
              "        const docLink = document.createElement('div');\n",
              "        docLink.innerHTML = docLinkHtml;\n",
              "        element.appendChild(docLink);\n",
              "      }\n",
              "    </script>\n",
              "  </div>\n",
              "\n",
              "\n",
              "    <div id=\"df-6333f0e2-405e-483e-b58c-fac905c438ed\">\n",
              "      <button class=\"colab-df-quickchart\" onclick=\"quickchart('df-6333f0e2-405e-483e-b58c-fac905c438ed')\"\n",
              "                title=\"Suggest charts\"\n",
              "                style=\"display:none;\">\n",
              "\n",
              "<svg xmlns=\"http://www.w3.org/2000/svg\" height=\"24px\"viewBox=\"0 0 24 24\"\n",
              "     width=\"24px\">\n",
              "    <g>\n",
              "        <path d=\"M19 3H5c-1.1 0-2 .9-2 2v14c0 1.1.9 2 2 2h14c1.1 0 2-.9 2-2V5c0-1.1-.9-2-2-2zM9 17H7v-7h2v7zm4 0h-2V7h2v10zm4 0h-2v-4h2v4z\"/>\n",
              "    </g>\n",
              "</svg>\n",
              "      </button>\n",
              "\n",
              "<style>\n",
              "  .colab-df-quickchart {\n",
              "      --bg-color: #E8F0FE;\n",
              "      --fill-color: #1967D2;\n",
              "      --hover-bg-color: #E2EBFA;\n",
              "      --hover-fill-color: #174EA6;\n",
              "      --disabled-fill-color: #AAA;\n",
              "      --disabled-bg-color: #DDD;\n",
              "  }\n",
              "\n",
              "  [theme=dark] .colab-df-quickchart {\n",
              "      --bg-color: #3B4455;\n",
              "      --fill-color: #D2E3FC;\n",
              "      --hover-bg-color: #434B5C;\n",
              "      --hover-fill-color: #FFFFFF;\n",
              "      --disabled-bg-color: #3B4455;\n",
              "      --disabled-fill-color: #666;\n",
              "  }\n",
              "\n",
              "  .colab-df-quickchart {\n",
              "    background-color: var(--bg-color);\n",
              "    border: none;\n",
              "    border-radius: 50%;\n",
              "    cursor: pointer;\n",
              "    display: none;\n",
              "    fill: var(--fill-color);\n",
              "    height: 32px;\n",
              "    padding: 0;\n",
              "    width: 32px;\n",
              "  }\n",
              "\n",
              "  .colab-df-quickchart:hover {\n",
              "    background-color: var(--hover-bg-color);\n",
              "    box-shadow: 0 1px 2px rgba(60, 64, 67, 0.3), 0 1px 3px 1px rgba(60, 64, 67, 0.15);\n",
              "    fill: var(--button-hover-fill-color);\n",
              "  }\n",
              "\n",
              "  .colab-df-quickchart-complete:disabled,\n",
              "  .colab-df-quickchart-complete:disabled:hover {\n",
              "    background-color: var(--disabled-bg-color);\n",
              "    fill: var(--disabled-fill-color);\n",
              "    box-shadow: none;\n",
              "  }\n",
              "\n",
              "  .colab-df-spinner {\n",
              "    border: 2px solid var(--fill-color);\n",
              "    border-color: transparent;\n",
              "    border-bottom-color: var(--fill-color);\n",
              "    animation:\n",
              "      spin 1s steps(1) infinite;\n",
              "  }\n",
              "\n",
              "  @keyframes spin {\n",
              "    0% {\n",
              "      border-color: transparent;\n",
              "      border-bottom-color: var(--fill-color);\n",
              "      border-left-color: var(--fill-color);\n",
              "    }\n",
              "    20% {\n",
              "      border-color: transparent;\n",
              "      border-left-color: var(--fill-color);\n",
              "      border-top-color: var(--fill-color);\n",
              "    }\n",
              "    30% {\n",
              "      border-color: transparent;\n",
              "      border-left-color: var(--fill-color);\n",
              "      border-top-color: var(--fill-color);\n",
              "      border-right-color: var(--fill-color);\n",
              "    }\n",
              "    40% {\n",
              "      border-color: transparent;\n",
              "      border-right-color: var(--fill-color);\n",
              "      border-top-color: var(--fill-color);\n",
              "    }\n",
              "    60% {\n",
              "      border-color: transparent;\n",
              "      border-right-color: var(--fill-color);\n",
              "    }\n",
              "    80% {\n",
              "      border-color: transparent;\n",
              "      border-right-color: var(--fill-color);\n",
              "      border-bottom-color: var(--fill-color);\n",
              "    }\n",
              "    90% {\n",
              "      border-color: transparent;\n",
              "      border-bottom-color: var(--fill-color);\n",
              "    }\n",
              "  }\n",
              "</style>\n",
              "\n",
              "      <script>\n",
              "        async function quickchart(key) {\n",
              "          const quickchartButtonEl =\n",
              "            document.querySelector('#' + key + ' button');\n",
              "          quickchartButtonEl.disabled = true;  // To prevent multiple clicks.\n",
              "          quickchartButtonEl.classList.add('colab-df-spinner');\n",
              "          try {\n",
              "            const charts = await google.colab.kernel.invokeFunction(\n",
              "                'suggestCharts', [key], {});\n",
              "          } catch (error) {\n",
              "            console.error('Error during call to suggestCharts:', error);\n",
              "          }\n",
              "          quickchartButtonEl.classList.remove('colab-df-spinner');\n",
              "          quickchartButtonEl.classList.add('colab-df-quickchart-complete');\n",
              "        }\n",
              "        (() => {\n",
              "          let quickchartButtonEl =\n",
              "            document.querySelector('#df-6333f0e2-405e-483e-b58c-fac905c438ed button');\n",
              "          quickchartButtonEl.style.display =\n",
              "            google.colab.kernel.accessAllowed ? 'block' : 'none';\n",
              "        })();\n",
              "      </script>\n",
              "    </div>\n",
              "\n",
              "    </div>\n",
              "  </div>\n"
            ],
            "application/vnd.google.colaboratory.intrinsic+json": {
              "type": "dataframe",
              "variable_name": "df2",
              "summary": "{\n  \"name\": \"df2\",\n  \"rows\": 2824,\n  \"fields\": [\n    {\n      \"column\": \"ORDERNUMBER\",\n      \"properties\": {\n        \"dtype\": \"number\",\n        \"std\": 92,\n        \"min\": 10100,\n        \"max\": 10425,\n        \"num_unique_values\": 307,\n        \"samples\": [\n          10295,\n          10163,\n          10232\n        ],\n        \"semantic_type\": \"\",\n        \"description\": \"\"\n      }\n    },\n    {\n      \"column\": \"QUANTITYORDERED\",\n      \"properties\": {\n        \"dtype\": \"number\",\n        \"std\": 9,\n        \"min\": 6,\n        \"max\": 97,\n        \"num_unique_values\": 58,\n        \"samples\": [\n          30,\n          26,\n          52\n        ],\n        \"semantic_type\": \"\",\n        \"description\": \"\"\n      }\n    },\n    {\n      \"column\": \"PRICEEACH\",\n      \"properties\": {\n        \"dtype\": \"number\",\n        \"std\": 20.173982057380066,\n        \"min\": 26.88,\n        \"max\": 100.0,\n        \"num_unique_values\": 1016,\n        \"samples\": [\n          90.4,\n          77.41,\n          93.9\n        ],\n        \"semantic_type\": \"\",\n        \"description\": \"\"\n      }\n    },\n    {\n      \"column\": \"ORDERDATE\",\n      \"properties\": {\n        \"dtype\": \"object\",\n        \"num_unique_values\": 252,\n        \"samples\": [\n          \"2004-10-11\",\n          \"2003-02-17\",\n          \"2004-04-09\"\n        ],\n        \"semantic_type\": \"\",\n        \"description\": \"\"\n      }\n    },\n    {\n      \"column\": \"STATUS\",\n      \"properties\": {\n        \"dtype\": \"category\",\n        \"num_unique_values\": 6,\n        \"samples\": [\n          \"Shipped\",\n          \"Resolved\",\n          \"In Process\"\n        ],\n        \"semantic_type\": \"\",\n        \"description\": \"\"\n      }\n    },\n    {\n      \"column\": \"PRODUCTLINE\",\n      \"properties\": {\n        \"dtype\": \"category\",\n        \"num_unique_values\": 7,\n        \"samples\": [\n          \"Vintage Cars\",\n          \"Classic Cars\",\n          \"Planes\"\n        ],\n        \"semantic_type\": \"\",\n        \"description\": \"\"\n      }\n    },\n    {\n      \"column\": \"PRODUCTCODE\",\n      \"properties\": {\n        \"dtype\": \"category\",\n        \"num_unique_values\": 109,\n        \"samples\": [\n          \"S24_2000\",\n          \"S10_1949\",\n          \"S18_2325\"\n        ],\n        \"semantic_type\": \"\",\n        \"description\": \"\"\n      }\n    },\n    {\n      \"column\": \"CUSTOMERNAME\",\n      \"properties\": {\n        \"dtype\": \"category\",\n        \"num_unique_values\": 92,\n        \"samples\": [\n          \"Oulu Toy Supplies, Inc.\",\n          \"Marseille Mini Autos\",\n          \"Herkku Gifts\"\n        ],\n        \"semantic_type\": \"\",\n        \"description\": \"\"\n      }\n    },\n    {\n      \"column\": \"CITY\",\n      \"properties\": {\n        \"dtype\": \"category\",\n        \"num_unique_values\": 73,\n        \"samples\": [\n          \"Madrid\",\n          \"Newark\",\n          \"Melbourne\"\n        ],\n        \"semantic_type\": \"\",\n        \"description\": \"\"\n      }\n    },\n    {\n      \"column\": \"DEALSIZE\",\n      \"properties\": {\n        \"dtype\": \"category\",\n        \"num_unique_values\": 3,\n        \"samples\": [\n          \"Medium\",\n          \"Small\",\n          \"Large\"\n        ],\n        \"semantic_type\": \"\",\n        \"description\": \"\"\n      }\n    },\n    {\n      \"column\": \"TOTALSALES\",\n      \"properties\": {\n        \"dtype\": \"number\",\n        \"std\": 1105.6549897495818,\n        \"min\": 482.13,\n        \"max\": 9048.16,\n        \"num_unique_values\": 1539,\n        \"samples\": [\n          3777.58,\n          2137.05,\n          2162.16\n        ],\n        \"semantic_type\": \"\",\n        \"description\": \"\"\n      }\n    },\n    {\n      \"column\": \"YEAR_MONTH\",\n      \"properties\": {\n        \"dtype\": \"object\",\n        \"num_unique_values\": 29,\n        \"samples\": [\n          \"2005-04\",\n          \"2004-05\",\n          \"2004-01\"\n        ],\n        \"semantic_type\": \"\",\n        \"description\": \"\"\n      }\n    }\n  ]\n}"
            }
          },
          "metadata": {},
          "execution_count": 32
        }
      ]
    }
  ]
}